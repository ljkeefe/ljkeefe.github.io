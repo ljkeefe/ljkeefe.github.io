{
 "cells": [
  {
   "cell_type": "markdown",
   "id": "e552642c",
   "metadata": {},
   "source": [
    "# Constructed Data"
   ]
  },
  {
   "cell_type": "code",
   "execution_count": 1,
   "id": "b05519d2",
   "metadata": {},
   "outputs": [],
   "source": [
    "import pandas as pd\n",
    "import numpy as np"
   ]
  },
  {
   "cell_type": "markdown",
   "id": "4dd39bb8",
   "metadata": {},
   "source": [
    "## TURF Data"
   ]
  },
  {
   "cell_type": "code",
   "execution_count": 84,
   "id": "0c43979d",
   "metadata": {},
   "outputs": [],
   "source": [
    "pie_df = pd.DataFrame(columns = ['apple', 'banana', 'coconut cream', 'lemon meringue', 'pumpkin', 'chocolate', 'rubarb', 'cherry'])"
   ]
  },
  {
   "cell_type": "code",
   "execution_count": 85,
   "id": "92c474c2",
   "metadata": {},
   "outputs": [
    {
     "data": {
      "text/html": [
       "<div>\n",
       "<style scoped>\n",
       "    .dataframe tbody tr th:only-of-type {\n",
       "        vertical-align: middle;\n",
       "    }\n",
       "\n",
       "    .dataframe tbody tr th {\n",
       "        vertical-align: top;\n",
       "    }\n",
       "\n",
       "    .dataframe thead th {\n",
       "        text-align: right;\n",
       "    }\n",
       "</style>\n",
       "<table border=\"1\" class=\"dataframe\">\n",
       "  <thead>\n",
       "    <tr style=\"text-align: right;\">\n",
       "      <th></th>\n",
       "      <th>apple</th>\n",
       "      <th>banana</th>\n",
       "      <th>coconut cream</th>\n",
       "      <th>lemon meringue</th>\n",
       "      <th>pumpkin</th>\n",
       "      <th>chocolate</th>\n",
       "      <th>rubarb</th>\n",
       "      <th>cherry</th>\n",
       "    </tr>\n",
       "  </thead>\n",
       "  <tbody>\n",
       "    <tr>\n",
       "      <th>0</th>\n",
       "      <td>0</td>\n",
       "      <td>1</td>\n",
       "      <td>1</td>\n",
       "      <td>0</td>\n",
       "      <td>0</td>\n",
       "      <td>0</td>\n",
       "      <td>1</td>\n",
       "      <td>1</td>\n",
       "    </tr>\n",
       "    <tr>\n",
       "      <th>1</th>\n",
       "      <td>0</td>\n",
       "      <td>1</td>\n",
       "      <td>0</td>\n",
       "      <td>0</td>\n",
       "      <td>0</td>\n",
       "      <td>0</td>\n",
       "      <td>0</td>\n",
       "      <td>1</td>\n",
       "    </tr>\n",
       "    <tr>\n",
       "      <th>2</th>\n",
       "      <td>1</td>\n",
       "      <td>1</td>\n",
       "      <td>0</td>\n",
       "      <td>1</td>\n",
       "      <td>0</td>\n",
       "      <td>1</td>\n",
       "      <td>1</td>\n",
       "      <td>1</td>\n",
       "    </tr>\n",
       "    <tr>\n",
       "      <th>3</th>\n",
       "      <td>1</td>\n",
       "      <td>0</td>\n",
       "      <td>0</td>\n",
       "      <td>0</td>\n",
       "      <td>1</td>\n",
       "      <td>0</td>\n",
       "      <td>0</td>\n",
       "      <td>1</td>\n",
       "    </tr>\n",
       "    <tr>\n",
       "      <th>4</th>\n",
       "      <td>0</td>\n",
       "      <td>0</td>\n",
       "      <td>0</td>\n",
       "      <td>1</td>\n",
       "      <td>0</td>\n",
       "      <td>1</td>\n",
       "      <td>0</td>\n",
       "      <td>0</td>\n",
       "    </tr>\n",
       "  </tbody>\n",
       "</table>\n",
       "</div>"
      ],
      "text/plain": [
       "   apple  banana  coconut cream  lemon meringue  pumpkin  chocolate  rubarb  \\\n",
       "0      0       1              1               0        0          0       1   \n",
       "1      0       1              0               0        0          0       0   \n",
       "2      1       1              0               1        0          1       1   \n",
       "3      1       0              0               0        1          0       0   \n",
       "4      0       0              0               1        0          1       0   \n",
       "\n",
       "   cherry  \n",
       "0       1  \n",
       "1       1  \n",
       "2       1  \n",
       "3       1  \n",
       "4       0  "
      ]
     },
     "execution_count": 85,
     "metadata": {},
     "output_type": "execute_result"
    }
   ],
   "source": [
    "for i in [j for j in pie_df.columns if j != 'person']:\n",
    "    listy = np.random.randint(2, size=300)\n",
    "    if sum(listy) in pie_df.sum().values:\n",
    "        listy = np.random.randint(2, size=300)\n",
    "        pie_df[i] = listy\n",
    "    else:\n",
    "        pie_df[i] = listy"
   ]
  },
  {
   "cell_type": "code",
   "execution_count": null,
   "id": "f3ae4600",
   "metadata": {},
   "outputs": [],
   "source": []
  }
 ],
 "metadata": {
  "kernelspec": {
   "display_name": "Python 3 (ipykernel)",
   "language": "python",
   "name": "python3"
  },
  "language_info": {
   "codemirror_mode": {
    "name": "ipython",
    "version": 3
   },
   "file_extension": ".py",
   "mimetype": "text/x-python",
   "name": "python",
   "nbconvert_exporter": "python",
   "pygments_lexer": "ipython3",
   "version": "3.9.12"
  }
 },
 "nbformat": 4,
 "nbformat_minor": 5
}
