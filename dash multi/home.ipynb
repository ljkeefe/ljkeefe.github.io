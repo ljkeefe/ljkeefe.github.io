{
 "cells": [
  {
   "cell_type": "code",
   "execution_count": 4,
   "id": "da75a13f",
   "metadata": {},
   "outputs": [],
   "source": [
    "from dash import html\n",
    "%run navbar.ipynb\n",
    "\n",
    "nav = create_navbar()\n",
    "\n",
    "def create_page_home():\n",
    "    header = html.H3('Welcome to home page!')\n",
    "    layout = html.Div([\n",
    "        nav,\n",
    "        header,\n",
    "    ])\n",
    "    return layout"
   ]
  },
  {
   "cell_type": "code",
   "execution_count": null,
   "id": "98a010e9",
   "metadata": {},
   "outputs": [],
   "source": []
  }
 ],
 "metadata": {
  "kernelspec": {
   "display_name": "Python 3 (ipykernel)",
   "language": "python",
   "name": "python3"
  },
  "language_info": {
   "codemirror_mode": {
    "name": "ipython",
    "version": 3
   },
   "file_extension": ".py",
   "mimetype": "text/x-python",
   "name": "python",
   "nbconvert_exporter": "python",
   "pygments_lexer": "ipython3",
   "version": "3.9.12"
  }
 },
 "nbformat": 4,
 "nbformat_minor": 5
}
