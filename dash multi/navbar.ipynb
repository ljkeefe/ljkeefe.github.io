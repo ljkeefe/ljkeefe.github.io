{
 "cells": [
  {
   "cell_type": "code",
   "execution_count": 2,
   "id": "21623cea",
   "metadata": {},
   "outputs": [],
   "source": [
    "import dash_bootstrap_components as dbc\n",
    "\n",
    "def create_navbar():\n",
    "    # Create the Navbar using Dash Bootstrap Components\n",
    "    navbar = dbc.NavbarSimple(\n",
    "        children=[\n",
    "            dbc.DropdownMenu(\n",
    "                nav=True,\n",
    "                in_navbar=True,\n",
    "                label=\"Menu\", # Label given to the dropdown menu\n",
    "                children=[\n",
    "                    # In this part of the code we create the items that will appear in the dropdown menu on the right\n",
    "                    # side of the Navbar.  The first parameter is the text that appears and the second parameter \n",
    "                    # is the URL extension.\n",
    "                    dbc.DropdownMenuItem(\"Home\", href='/'), # Hyperlink item that appears in the dropdown menu\n",
    "                    dbc.DropdownMenuItem(divider=True), # Divider item that appears in the dropdown menu \n",
    "                    dbc.DropdownMenuItem(\"Page 2\", href='/page-2'), # Hyperlink item that appears in the dropdown menu\n",
    "                    dbc.DropdownMenuItem(\"Page 3\", href='/page-3'), # Hyperlink item that appears in the dropdown menu\n",
    "                ],\n",
    "            ),\n",
    "        ],\n",
    "        brand=\"Home\",  # Set the text on the left side of the Navbar\n",
    "        brand_href=\"/\",  # Set the URL where the user will be sent when they click the brand we just created \"Home\"\n",
    "        sticky=\"top\",  # Stick it to the top... like Spider Man crawling on the ceiling?\n",
    "        color=\"dark\",  # Change this to change color of the navbar e.g. \"primary\", \"secondary\" etc.\n",
    "        dark=True,  # Change this to change color of text within the navbar (False for light text)\n",
    "    )\n",
    "\n",
    "    return navbar"
   ]
  },
  {
   "cell_type": "code",
   "execution_count": null,
   "id": "e068ac9e",
   "metadata": {},
   "outputs": [],
   "source": []
  }
 ],
 "metadata": {
  "kernelspec": {
   "display_name": "Python 3 (ipykernel)",
   "language": "python",
   "name": "python3"
  },
  "language_info": {
   "codemirror_mode": {
    "name": "ipython",
    "version": 3
   },
   "file_extension": ".py",
   "mimetype": "text/x-python",
   "name": "python",
   "nbconvert_exporter": "python",
   "pygments_lexer": "ipython3",
   "version": "3.9.12"
  }
 },
 "nbformat": 4,
 "nbformat_minor": 5
}
