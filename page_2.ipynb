{
 "cells": [
  {
   "cell_type": "code",
   "execution_count": 15,
   "id": "f2af6531",
   "metadata": {},
   "outputs": [
    {
     "name": "stderr",
     "output_type": "stream",
     "text": [
      "/var/folders/cd/4r7zd1mx0tb81bxglc4bygf40000gn/T/ipykernel_34652/813402162.py:3: UserWarning: \n",
      "The dash_core_components package is deprecated. Please replace\n",
      "`import dash_core_components as dcc` with `from dash import dcc`\n",
      "  import dash_core_components as dcc\n"
     ]
    }
   ],
   "source": [
    "from dash import html\n",
    "from dash import dash_table\n",
    "import dash_core_components as dcc\n",
    "import pandas as pd\n",
    "%run navbar.ipynb\n",
    "\n",
    "nav = create_navbar()\n",
    "df = pd.read_csv('https://raw.githubusercontent.com/plotly/datasets/master/solar.csv')\n",
    "\n",
    "df = df.sort_values('Number of Solar Plants', ascending=False)\n",
    "\n",
    "df['Average MW Per Plant'] = [str(i)+'%' for i in df['Average MW Per Plant']]\n",
    "\n",
    "long_data = pd.concat([df,df])\n",
    "\n",
    "def create_page_2():\n",
    "    header = html.Div(children=[\n",
    "        html.Div(children=[\n",
    "            html.H1(children='Project 1 - MaxDiff Analysis',style={'display':'inline-block', \"margin\": \"15px\", 'margin-right':-100, 'textAlign' : 'center', 'color' : '#0480B4'}),\n",
    "            html.Button(\"Download Excel\", id=\"btn_xlsx\", style={'float': 'right', 'margin': '15px', 'background-color':'#0480B4', 'color':'white', 'border-radius':'5px'}),\n",
    "            dcc.Download(id=\"download-dataframe-xlsx\")\n",
    "        ], style={'textAlign': 'center'}),\n",
    "        html.H3(children='MaxDiff Scores',style={\"margin-top\": \"15px\", \"margin\": \"15px\", 'textAlign' : 'center', 'color' : '#0480B4'}),\n",
    "        dash_table.DataTable(\n",
    "            long_data.to_dict('records'), [{\"name\": i, \"id\": i} for i in df.columns],\n",
    "            style_data={\n",
    "                'color': 'black',\n",
    "                'border': '1px solid #0480B4',\n",
    "                'backgroundColor': '#FFFFFF'\n",
    "            },\n",
    "            style_data_conditional=[\n",
    "                {\n",
    "                    'if': {\n",
    "                        'filter_query': '{Number of Solar Plants} > 100'\n",
    "                    },\n",
    "                    'backgroundColor': '#04B490'\n",
    "                },\n",
    "                {\n",
    "                    'if': {\n",
    "                        'column_id': 'State'\n",
    "                    },\n",
    "                    'textAlign': 'center'\n",
    "                },\n",
    "            ],\n",
    "            style_cell={\n",
    "                # all three widths are needed\n",
    "                'minWidth': '180px', 'width': '180px', 'maxWidth': '180px',\n",
    "                'overflow': 'hidden',\n",
    "                'textOverflow': 'ellipsis',\n",
    "            },\n",
    "            fixed_rows={'headers': True},\n",
    "            style_header={\n",
    "                'backgroundColor': '#AEAEAE',\n",
    "                'color': 'black',\n",
    "                'border': '1px solid #0480B4',\n",
    "                'fontWeight': 'bold',\n",
    "                'textAlign' : 'center'\n",
    "            },\n",
    "            style_table={\n",
    "                'width': '90%',\n",
    "                'margin' : 'auto',\n",
    "                'box-shadow': '5px 5px 10px 3px rgba(0, 0, 0, 0.39)',\n",
    "                'border': '1px solid #0480B4',\n",
    "                'maxHeight': '300px', \n",
    "                 'overflow': 'scroll'\n",
    "            }\n",
    "        ),\n",
    "    html.H3(children='Top Concepts',style={\"margin-top\": \"15px\", \"margin\": \"15px\", 'textAlign' : 'center', 'color' : '#0480B4'}),\n",
    "    html.Ol(children=[\n",
    "        html.Li(children=df.loc[x,'State']) for x in df.index if df.loc[x,'Number of Solar Plants'] > 100\n",
    "    ], style={'textAlign':'center', 'list-style-position': 'inside', 'margin' : 'auto'})\n",
    "])\n",
    "\n",
    "    layout = html.Div([\n",
    "        nav,\n",
    "        header,\n",
    "    ])\n",
    "    return layout"
   ]
  },
  {
   "cell_type": "code",
   "execution_count": 9,
   "id": "d1ce8a95",
   "metadata": {},
   "outputs": [
    {
     "data": {
      "text/plain": [
       "['15.3%', '4.5%', '22.5%', '7.9%', '5.9%', '4.1%', '15.6%', '21.6%']"
      ]
     },
     "execution_count": 9,
     "metadata": {},
     "output_type": "execute_result"
    }
   ],
   "source": []
  },
  {
   "cell_type": "code",
   "execution_count": null,
   "id": "f710ad76",
   "metadata": {},
   "outputs": [],
   "source": []
  }
 ],
 "metadata": {
  "kernelspec": {
   "display_name": "Python 3 (ipykernel)",
   "language": "python",
   "name": "python3"
  },
  "language_info": {
   "codemirror_mode": {
    "name": "ipython",
    "version": 3
   },
   "file_extension": ".py",
   "mimetype": "text/x-python",
   "name": "python",
   "nbconvert_exporter": "python",
   "pygments_lexer": "ipython3",
   "version": "3.9.12"
  }
 },
 "nbformat": 4,
 "nbformat_minor": 5
}
